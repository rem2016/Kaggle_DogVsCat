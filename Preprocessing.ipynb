{
 "cells": [
  {
   "cell_type": "code",
   "execution_count": 1,
   "metadata": {
    "collapsed": true
   },
   "outputs": [],
   "source": [
    "import numpy as np\n",
    "import os\n",
    "import pandas as pd\n",
    "import matplotlib.pyplot as plt\n",
    "from PIL import Image\n",
    "import tensorflow as tf\n",
    "\n",
    "%matplotlib inline"
   ]
  },
  {
   "cell_type": "code",
   "execution_count": 3,
   "metadata": {
    "collapsed": false
   },
   "outputs": [
    {
     "name": "stdout",
     "output_type": "stream",
     "text": [
      "10000\n",
      "20000\n",
      "30000\n"
     ]
    }
   ],
   "source": [
    "IMAGE_SIZE = 256\n",
    "# 图片尺寸转换\n",
    "counter = 0\n",
    "for root_path in ('train', 'test'):\n",
    "    files = [ root_path + '/' + i for i in os.listdir(root_path)]\n",
    "    for img_path in files:\n",
    "        img = Image.open(img_path)\n",
    "        scale = IMAGE_SIZE / max(img.size)\n",
    "        to_size = (int(img.size[0] * scale + 0.5), int(0.5 + img.size[1] * scale))\n",
    "        img = img.resize(to_size)\n",
    "        black_bg = Image.new(\"RGB\", (IMAGE_SIZE, IMAGE_SIZE))\n",
    "        black_bg.paste(img, ((IMAGE_SIZE-img.size[0])//2, (IMAGE_SIZE - img.size[1])//2))\n",
    "        black_bg.save('input/my_' + img_path)\n",
    "        counter += 1\n",
    "        if counter % 10000 == 0:\n",
    "            print(counter)"
   ]
  },
  {
   "cell_type": "code",
   "execution_count": 62,
   "metadata": {
    "collapsed": true
   },
   "outputs": [],
   "source": [
    "from sklearn.cross_validation import train_test_split\n",
    "\n",
    "def get_train(shuffle=True, seed=None):\n",
    "    \"\"\"return X_train, Y_train\"\"\"\n",
    "    root_path = 'input/my_train/'\n",
    "    files_path = [ root_path + i for i in os.listdir(root_path)]\n",
    "    def get_label(name):\n",
    "        if 'cat' in name:\n",
    "            return [0, 1]\n",
    "        return [1, 0]\n",
    "    Y_train = np.array(list(map(get_label, files_path)))\n",
    "    X_train = np.array(list(map(lambda x: np.array(Image.open(x)), files_path)))\n",
    "\n",
    "    mask = np.ones(X_train.shape[0]).astype(np.bool)\n",
    "    for i,v in enumerate(X_train):\n",
    "        if v.shape != (128, 128, 3):\n",
    "            mask[i] = False\n",
    "    X_train = np.array(X_train[mask])\n",
    "    Y_train = Y_train[mask]\n",
    "    X_train = np.array(X_train.tolist())\n",
    "    if shuffle:\n",
    "        if not seed:\n",
    "            X_train, _, Y_train, _ = train_test_split(X_train, Y_train, test_size=0.0)\n",
    "        else:\n",
    "            X_train, _, Y_train, _ = train_test_split(X_train, Y_train, test_size=0.0, random_state=seed)\n",
    "    return X_train, Y_train\n",
    "    \n",
    "def get_test():\n",
    "    \"\"\"return X_test\"\"\"\n",
    "    root_path = 'input/my_test/'\n",
    "    files_path = [ root_path + i for i in os.listdir(root_path)]\n",
    "    X_test = np.array(list(map(lambda x: np.array(Image.open(x)), files_path)))\n",
    "    for i,v in enumerate(X_test):\n",
    "        if v.shape != (128, 128, 3):\n",
    "            print(i)\n",
    "            print('ERROR')\n",
    "            raise ValueError(\"!!!\")\n",
    "    return X_test\n",
    "    "
   ]
  },
  {
   "cell_type": "code",
   "execution_count": 2,
   "metadata": {
    "collapsed": true
   },
   "outputs": [],
   "source": [
    "from cat_read_data import *\n",
    "\n",
    "X_train, Y_train = get_train()"
   ]
  },
  {
   "cell_type": "code",
   "execution_count": 5,
   "metadata": {
    "collapsed": false
   },
   "outputs": [
    {
     "name": "stderr",
     "output_type": "stream",
     "text": [
      "Using TensorFlow backend.\n"
     ]
    }
   ],
   "source": [
    "from keras.models import Sequential\n",
    "from keras.layers import Dense, Dropout, Activation, Flatten\n",
    "from keras.layers import Convolution2D, MaxPooling2D\n",
    "from keras.optimizers import SGD\n",
    "\n",
    "model = Sequential()\n",
    "# input: 100x100 images with 3 channels -> (3, 100, 100) tensors.\n",
    "# this applies 32 convolution filters of size 3x3 each.\n",
    "model.add(Convolution2D(32, 3, 3, border_mode='valid', input_shape=(128, 128, 3)))\n",
    "model.add(Activation('relu'))\n",
    "model.add(Convolution2D(32, 3, 3))\n",
    "model.add(Activation('relu'))\n",
    "model.add(MaxPooling2D(pool_size=(2, 2)))\n",
    "model.add(Dropout(0.25))\n",
    "\n",
    "model.add(Convolution2D(64, 3, 3, border_mode='valid'))\n",
    "model.add(Activation('relu'))\n",
    "model.add(Convolution2D(64, 3, 3))\n",
    "model.add(Activation('relu'))\n",
    "model.add(MaxPooling2D(pool_size=(2, 2)))\n",
    "model.add(Dropout(0.25))\n",
    "\n",
    "model.add(Flatten())\n",
    "# Note: Keras does automatic shape inference.\n",
    "model.add(Dense(256))\n",
    "model.add(Activation('relu'))\n",
    "model.add(Dropout(0.5))\n",
    "\n",
    "model.add(Dense(2))\n",
    "model.add(Activation('softmax'))\n",
    "\n",
    "sgd = SGD(lr=0.1, decay=1e-6, momentum=0.9, nesterov=True)\n",
    "model.compile(loss='categorical_crossentropy', optimizer=sgd)\n"
   ]
  },
  {
   "cell_type": "code",
   "execution_count": 12,
   "metadata": {
    "collapsed": false
   },
   "outputs": [
    {
     "name": "stdout",
     "output_type": "stream",
     "text": [
      "Train on 108 samples, validate on 20 samples\n",
      "Epoch 1/1\n",
      "108/108 [==============================] - 7s - loss: 7.1636 - val_loss: 9.6709\n"
     ]
    },
    {
     "data": {
      "text/plain": [
       "<keras.callbacks.History at 0x20900c225c0>"
      ]
     },
     "execution_count": 12,
     "metadata": {},
     "output_type": "execute_result"
    }
   ],
   "source": [
    "model.fit(X_train[:128], Y_train[:128], batch_size=32, nb_epoch=1, validation_split=0.15)"
   ]
  },
  {
   "cell_type": "code",
   "execution_count": null,
   "metadata": {
    "collapsed": false
   },
   "outputs": [],
   "source": [
    "X_train.astype(np.float)"
   ]
  },
  {
   "cell_type": "code",
   "execution_count": null,
   "metadata": {
    "collapsed": true
   },
   "outputs": [],
   "source": []
  }
 ],
 "metadata": {
  "anaconda-cloud": {},
  "kernelspec": {
   "display_name": "Python [Root]",
   "language": "python",
   "name": "Python [Root]"
  },
  "language_info": {
   "codemirror_mode": {
    "name": "ipython",
    "version": 3
   },
   "file_extension": ".py",
   "mimetype": "text/x-python",
   "name": "python",
   "nbconvert_exporter": "python",
   "pygments_lexer": "ipython3",
   "version": "3.5.2"
  }
 },
 "nbformat": 4,
 "nbformat_minor": 0
}
